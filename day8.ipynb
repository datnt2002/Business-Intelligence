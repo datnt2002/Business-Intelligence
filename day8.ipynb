{
 "cells": [
  {
   "cell_type": "code",
   "execution_count": 11,
   "metadata": {},
   "outputs": [],
   "source": [
    "employees  = [  ['John smith','54a1341',120],\n",
    "                ['','312aaaaa12312',200],\n",
    "                ['William','321321',100],\n",
    "                ['Melody Pond','862626',250],\n",
    "                ['Dean Winchesterrrrrrrrrrrrrrrrrr2345yui765432435676453245675432','876555',300],\n",
    "                ['Jodie','1234567890',350]\n",
    "            ]"
   ]
  },
  {
   "cell_type": "code",
   "execution_count": 12,
   "metadata": {},
   "outputs": [],
   "source": [
    "def do_nothing(employees):\n",
    "    pass\n",
    "def clean_employees(employees, clean_name=do_nothing, clean_phone=do_nothing, clean_salary=do_nothing):\n",
    "    clean_name(employees)\n",
    "    clean_phone(employees)\n",
    "    clean_salary(employees)"
   ]
  },
  {
   "cell_type": "code",
   "execution_count": 13,
   "metadata": {},
   "outputs": [
    {
     "name": "stdout",
     "output_type": "stream",
     "text": [
      "[['John smith', '54a1341', 120], ['John Doe', '312aaaaa12312', 200], ['William', '321321', 100], ['Melody Pond', '862626', 250], ['Dean Winchesterrrrrrrrrrrrrrrrrr2345yui765432435676453245675432', '876555', 300], ['Jodie', '1234567890', 350]]\n"
     ]
    }
   ],
   "source": [
    "def empty_2_default(employees):\n",
    "    for row in employees:\n",
    "        if row[0] == '':\n",
    "            row[0] = 'John Doe'\n",
    "clean_employees(employees, clean_name=empty_2_default)\n",
    "print(employees)"
   ]
  },
  {
   "cell_type": "code",
   "execution_count": 14,
   "metadata": {},
   "outputs": [
    {
     "name": "stdout",
     "output_type": "stream",
     "text": [
      "[['John smith', '54a1341', 120], ['John Doe', '312aaaaa12312', 200], ['William', '321321', 100], ['Melody Pond', '862626', 250], ['Dean Winchesterrrrrr', '876555', 300], ['Jodie', '1234567890', 350]]\n"
     ]
    }
   ],
   "source": [
    "def truncate_longname(employees):\n",
    "    for employee in employees:\n",
    "        if len(employee[0]) > 20:\n",
    "            employee[0] = employee[0][:20]\n",
    "\n",
    "clean_employees(employees, clean_name=truncate_longname)\n",
    "print(employees)"
   ]
  },
  {
   "cell_type": "code",
   "execution_count": 15,
   "metadata": {},
   "outputs": [
    {
     "name": "stdout",
     "output_type": "stream",
     "text": [
      "[['John smith', '5401341', 120], ['John Doe', '3120000012312', 200], ['William', '321321', 100], ['Melody Pond', '862626', 250], ['Dean Winchesterrrrrr', '876555', 300], ['Jodie', '1234567890', 350]]\n"
     ]
    }
   ],
   "source": [
    "def digit_2zero(employees):\n",
    "    for row in employees:\n",
    "        row[1] = list(map(lambda x: x if x.isdigit() else '0', row[1]))\n",
    "        row[1] = ''.join(row[1])\n",
    "\n",
    "clean_employees(employees, clean_phone=digit_2zero)\n",
    "print(employees)"
   ]
  },
  {
   "cell_type": "code",
   "execution_count": 16,
   "metadata": {},
   "outputs": [
    {
     "name": "stdout",
     "output_type": "stream",
     "text": [
      "[['John smith', '5401341', 200], ['John Doe', '3120000012312', 200], ['William', '321321', 200], ['Melody Pond', '862626', 250], ['Dean Winchesterrrrrr', '876555', 300], ['Jodie', '1234567890', 350]]\n"
     ]
    }
   ],
   "source": [
    "def fix_salary(employees):\n",
    "    for row in employees:\n",
    "        if row[2] < 200:\n",
    "            row[2] = 200\n",
    "        if row[2] > 2000:\n",
    "            row[2] = 2000\n",
    "            \n",
    "clean_employees(employees, clean_salary=fix_salary)\n",
    "print(employees)"
   ]
  },
  {
   "cell_type": "code",
   "execution_count": 20,
   "metadata": {},
   "outputs": [
    {
     "name": "stdout",
     "output_type": "stream",
     "text": [
      "[['John smith', '5401341', 200], ['John Doe', '3120000012312', 200], ['William', '321321', 200], ['Melody Pond', '862626', 250], ['Dean Winchesterrrrrr', '876555', 300], ['Jodie', '1234567890', 350]]\n"
     ]
    }
   ],
   "source": [
    "def nondigit_2previous(employees):\n",
    "    for row in employees:\n",
    "        phone = [c for c in row[1]]\n",
    "        phone[0] = phone[0] if phone[0].isdigit() else '0'\n",
    "        for i in range(1, len(phone)):\n",
    "            phone[i] = phone[i] if phone[i].isdigit() else phone[i-1]\n",
    "        \n",
    "        row[1] = ''.join(phone)\n",
    "clean_employees(employees, clean_name=empty_2_default)\n",
    "\n",
    "clean_employees(employees, clean_name=truncate_longname, clean_salary=fix_salary, clean_phone=nondigit_2previous)\n",
    "\n",
    "print(employees)"
   ]
  },
  {
   "cell_type": "code",
   "execution_count": 21,
   "metadata": {},
   "outputs": [
    {
     "name": "stdout",
     "output_type": "stream",
     "text": [
      "Total 412.5\n"
     ]
    }
   ],
   "source": [
    "pizza_solds = [['John', '10:00', 15], ['Paul', '11:00', 20], ['George', '12:00', 18], ['Ringo', '13:00', 22]]\n",
    "\n",
    "\n",
    "price = 5.5\n",
    "number_pizzas = (x[2] for x in pizza_solds)\n",
    "incomes = (n*price for n in number_pizzas)\n",
    "print('Total', sum(incomes))"
   ]
  },
  {
   "cell_type": "code",
   "execution_count": 24,
   "metadata": {},
   "outputs": [],
   "source": [
    "def fibo_generator():\n",
    "    a, b =0 ,1\n",
    "    while True:\n",
    "        yield a\n",
    "        a, b = b, a + b\n"
   ]
  },
  {
   "cell_type": "code",
   "execution_count": 29,
   "metadata": {},
   "outputs": [],
   "source": [
    "def fibonacci(n):\n",
    "    i = 0\n",
    "    for f in fibo_generator():\n",
    "        if i == n:\n",
    "            return f\n",
    "        i += 1"
   ]
  },
  {
   "cell_type": "code",
   "execution_count": 30,
   "metadata": {},
   "outputs": [
    {
     "name": "stdout",
     "output_type": "stream",
     "text": [
      "12586269025\n"
     ]
    }
   ],
   "source": [
    "print(fibonacci(50))"
   ]
  }
 ],
 "metadata": {
  "kernelspec": {
   "display_name": "Python 3.10.8 64-bit",
   "language": "python",
   "name": "python3"
  },
  "language_info": {
   "codemirror_mode": {
    "name": "ipython",
    "version": 3
   },
   "file_extension": ".py",
   "mimetype": "text/x-python",
   "name": "python",
   "nbconvert_exporter": "python",
   "pygments_lexer": "ipython3",
   "version": "3.10.8 (tags/v3.10.8:aaaf517, Oct 11 2022, 16:50:30) [MSC v.1933 64 bit (AMD64)]"
  },
  "orig_nbformat": 4,
  "vscode": {
   "interpreter": {
    "hash": "26de051ba29f2982a8de78e945f0abaf191376122a1563185a90213a26c5da77"
   }
  }
 },
 "nbformat": 4,
 "nbformat_minor": 2
}
