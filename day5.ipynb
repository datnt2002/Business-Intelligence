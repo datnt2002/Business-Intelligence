{
 "cells": [
  {
   "cell_type": "code",
   "execution_count": 1,
   "metadata": {},
   "outputs": [],
   "source": [
    "#dictionary: collection of pairs (key,value)\n",
    "rooms = {'Peter': 201, 'Joanna': 105}\n"
   ]
  },
  {
   "cell_type": "code",
   "execution_count": 6,
   "metadata": {},
   "outputs": [
    {
     "name": "stdout",
     "output_type": "stream",
     "text": [
      "Peter in 201\n",
      "Joanna in 105\n",
      "--------------------\n",
      "Peter in 201\n",
      "Joanna in 105\n"
     ]
    }
   ],
   "source": [
    "for guest in rooms:\n",
    "    print(f'{guest} in {rooms[guest]}')\n",
    "print('-' * 20)    \n",
    "for guest, room_no in rooms.items():\n",
    "    print(f'{guest} in {room_no}')"
   ]
  },
  {
   "cell_type": "code",
   "execution_count": 7,
   "metadata": {},
   "outputs": [
    {
     "name": "stdout",
     "output_type": "stream",
     "text": [
      "{'Peter': 201, 'Joanna': 105, 'ngu': 111}\n"
     ]
    }
   ],
   "source": [
    "name = input('Enter name: ')\n",
    "room_no = int(input('Enter room: '))\n",
    "if name in rooms:\n",
    "    print(f'Guest {name} in the hotel')\n",
    "else:\n",
    "    rooms[name] = room_no\n",
    "    print(rooms)"
   ]
  },
  {
   "cell_type": "code",
   "execution_count": 9,
   "metadata": {},
   "outputs": [
    {
     "name": "stdout",
     "output_type": "stream",
     "text": [
      "current room:  111\n",
      "{'Peter': 201, 'Joanna': 105, 'ngu': 222}\n"
     ]
    }
   ],
   "source": [
    "name = input('Enter name: ')\n",
    "if name not in rooms:\n",
    "    print(f'Guest {name} not in the hotel')\n",
    "else:\n",
    "    print('current room: ', rooms[name])\n",
    "    room_no = int(input('Enter room: '))\n",
    "    rooms[name] = room_no\n",
    "    print(rooms)"
   ]
  },
  {
   "cell_type": "code",
   "execution_count": 10,
   "metadata": {},
   "outputs": [
    {
     "name": "stdout",
     "output_type": "stream",
     "text": [
      "Guest ngu has checked out from 222\n",
      "{'Peter': 201, 'Joanna': 105}\n"
     ]
    }
   ],
   "source": [
    "name = input('Enter name: ')\n",
    "if name not in rooms:\n",
    "    print(f'Guest {name} not in the hotel')\n",
    "else:\n",
    "    room_no = rooms.pop(name)\n",
    "    print(f'Guest {name} has checked out from {room_no}')\n",
    "    print(rooms)"
   ]
  },
  {
   "cell_type": "code",
   "execution_count": 64,
   "metadata": {},
   "outputs": [
    {
     "name": "stdout",
     "output_type": "stream",
     "text": [
      "co GCH1001 ten la John Lennon\n"
     ]
    }
   ],
   "source": [
    "students = {'GCH1001': ['John Lennon', 75], 'GCH1002': ['Paul McCartney',80], 'GCH1003': ['George Harrison', 65],\n",
    "            'GCH1004': ['Ringo Starr', 40], 'GCH1005': ['Pete Best', 40], 'GCH1006': ['John Lennon', 35]}\n",
    "\n",
    "id = input('Enter id: ')\n",
    "if id in students:\n",
    "    print(f'co {id} ten la {students[id][0]}')"
   ]
  },
  {
   "cell_type": "code",
   "execution_count": 14,
   "metadata": {},
   "outputs": [
    {
     "name": "stdout",
     "output_type": "stream",
     "text": [
      "{'GCH1001': ['John Lennon', 75], 'GCH1002': ['Paul McCartney', 80], 'GCH1003': ['George Harrison', 65], 'GCH1004': ['Ringo Starr', 40], 'GCH1005': ['Pete Best', 40], 'GCH1006': ['John Lennon', 35], 'GCH1007': ['gggggeafewd', 0]}\n"
     ]
    }
   ],
   "source": [
    "id = input('Enter new id: ')\n",
    "if id in students:\n",
    "    print(f'{id} already exist')\n",
    "else:\n",
    "    name = input('Enter new name: ')\n",
    "    students[id] = [name, 0]\n",
    "    print(students)"
   ]
  },
  {
   "cell_type": "code",
   "execution_count": 16,
   "metadata": {},
   "outputs": [
    {
     "name": "stdout",
     "output_type": "stream",
     "text": [
      "{'GCH1001': ['John Lennon', 75], 'GCH1002': ['Paul McCartney', 80], 'GCH1003': ['George Harrison', 65], 'GCH1004': ['Ringo Starr', 40], 'GCH1005': ['Pete Best', 40], 'GCH1006': ['John Lennon', 35], 'GCH1007': ['dat', 80]}\n"
     ]
    }
   ],
   "source": [
    "id = input('Enter id: ')\n",
    "if id not in students:\n",
    "    print(f'{id} not exist')\n",
    "else:\n",
    "    grade = int(input('Enter new grade: '))\n",
    "    students[id][1] = grade\n",
    "    print(students)"
   ]
  },
  {
   "cell_type": "code",
   "execution_count": 74,
   "metadata": {},
   "outputs": [
    {
     "name": "stdout",
     "output_type": "stream",
     "text": [
      "80\n"
     ]
    }
   ],
   "source": [
    "max_grade = max([student[1] for id, student in students.items()])\n",
    "\n",
    "print(max_grade)\n",
    "\n",
    "\n",
    "#min score\n",
    "# for id, student in students.items():\n",
    "#     if student[1] <= min_student:\n",
    "#         min_student = student[1]\n",
    "# print(f'{id} ten la {student[0]} co diem {student[1]}')\n",
    "\n",
    "#average\n",
    "# sum_grade = 0\n",
    "# for id, student in students.items():\n",
    "#     sum_grade += student[1]\n",
    "# avg = sum_grade / len(students)\n",
    "# print(avg)"
   ]
  },
  {
   "cell_type": "code",
   "execution_count": 23,
   "metadata": {},
   "outputs": [
    {
     "name": "stdout",
     "output_type": "stream",
     "text": [
      "John Lennon 75\n",
      "{'GCH1002': ['Paul McCartney', 80], 'GCH1003': ['George Harrison', 65], 'GCH1004': ['Ringo Starr', 40], 'GCH1005': ['Pete Best', 40], 'GCH1006': ['John Lennon', 35]}\n"
     ]
    }
   ],
   "source": [
    "id = input('Enter id: ')\n",
    "if id not in students:\n",
    "    print(f'{id} not exist')\n",
    "else:\n",
    "    old_student = students.pop(id)\n",
    "    print(old_student[0], old_student[1])\n",
    "    print(students)"
   ]
  }
 ],
 "metadata": {
  "kernelspec": {
   "display_name": "Python 3.10.8 64-bit",
   "language": "python",
   "name": "python3"
  },
  "language_info": {
   "codemirror_mode": {
    "name": "ipython",
    "version": 3
   },
   "file_extension": ".py",
   "mimetype": "text/x-python",
   "name": "python",
   "nbconvert_exporter": "python",
   "pygments_lexer": "ipython3",
   "version": "3.10.8"
  },
  "orig_nbformat": 4,
  "vscode": {
   "interpreter": {
    "hash": "26de051ba29f2982a8de78e945f0abaf191376122a1563185a90213a26c5da77"
   }
  }
 },
 "nbformat": 4,
 "nbformat_minor": 2
}
