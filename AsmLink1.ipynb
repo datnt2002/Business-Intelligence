{
 "cells": [
  {
   "cell_type": "code",
   "execution_count": 3,
   "metadata": {},
   "outputs": [],
   "source": [
    "# Question 1: There are 4 files csv, concatenate all files into 1.\n",
    "import csv\n",
    "fr1 = open('DatasetsAsm/3.1-data-sheet-udemy-courses-business-courses.csv', 'r', encoding='utf-8')\n",
    "reader = csv.reader(fr1)\n",
    "header = next(reader)\n",
    "\n",
    "full_data = []\n",
    "\n",
    "fw = open('DatasetsAsm/clean-link1.csv', 'w', encoding='utf-8')\n",
    "writer = csv.writer(fw)\n",
    "del header[0]\n",
    "del header[1]\n",
    "#new header\n",
    "header.insert(2, 'Free/Paid')\n",
    "writer.writerow(header)\n",
    "\n",
    "#insert data to list\n",
    "for row in reader:\n",
    "    full_data.append(row)\n",
    "\n",
    "files = ['DatasetsAsm/3.1-data-sheet-udemy-courses-design-courses.csv', \n",
    "         'DatasetsAsm/3.1-data-sheet-udemy-courses-music-courses.csv',\n",
    "         'DatasetsAsm/3.1-data-sheet-udemy-courses-web-development.csv']\n",
    "\n",
    "for f in files:\n",
    "    with open(f, 'r', encoding='utf-8') as fr:\n",
    "        reader = csv.reader(fr)\n",
    "        next(reader)\n",
    "        for row in reader:\n",
    "            full_data.append(row)\n",
    "\n",
    "for row in full_data:\n",
    "    del row[0]\n",
    "    del row[1]\n",
    "    #If price = 0 ,'Free', price > 0: Paid\n",
    "    if row[1] == '0':\n",
    "        row.insert(2, 'Free')\n",
    "    else:\n",
    "        row.insert(2, 'Paid')\n",
    "    # Change rating from 0-1 to 0-5\n",
    "    if row[7] != '':\n",
    "        row[7] = round(float(row[7]) * 5)\n",
    "        writer.writerow(row)\n",
    "\n",
    "fr1.close()\n",
    "fw.close()"
   ]
  }
 ],
 "metadata": {
  "kernelspec": {
   "display_name": "Python 3",
   "language": "python",
   "name": "python3"
  },
  "language_info": {
   "codemirror_mode": {
    "name": "ipython",
    "version": 3
   },
   "file_extension": ".py",
   "mimetype": "text/x-python",
   "name": "python",
   "nbconvert_exporter": "python",
   "pygments_lexer": "ipython3",
   "version": "3.10.8"
  },
  "orig_nbformat": 4,
  "vscode": {
   "interpreter": {
    "hash": "26de051ba29f2982a8de78e945f0abaf191376122a1563185a90213a26c5da77"
   }
  }
 },
 "nbformat": 4,
 "nbformat_minor": 2
}
