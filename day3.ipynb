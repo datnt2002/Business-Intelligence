{
 "cells": [
  {
   "cell_type": "code",
   "execution_count": 1,
   "metadata": {},
   "outputs": [
    {
     "name": "stdout",
     "output_type": "stream",
     "text": [
      "1 2 3 \n",
      "4 5 6 \n",
      "7 8 9 \n"
     ]
    }
   ],
   "source": [
    "a = [[1, 2, 3], [4, 5, 6], [7, 8, 9]]\n",
    "for row in a:\n",
    "    for col in row:\n",
    "        print(col, end=\" \")\n",
    "    print()\n"
   ]
  },
  {
   "cell_type": "code",
   "execution_count": 10,
   "metadata": {},
   "outputs": [
    {
     "name": "stdout",
     "output_type": "stream",
     "text": [
      "Mary 9.0\n",
      "Alice 8.0\n",
      "Anna 10.0\n"
     ]
    }
   ],
   "source": [
    "students_grades = [\n",
    "    [\"John\", 7.5],\n",
    "    [\"Mary\", 9.0],\n",
    "    [\"Bob\", 6.0],\n",
    "    [\"Alice\", 8.0],\n",
    "    [\"Mike\", 3.0],\n",
    "    [\"Anna\", 10.0],\n",
    "    [\"Tom\", 5.0],\n",
    "    [\"Jane\", 7.5],\n",
    "]\n",
    "\n",
    "for row in students_grades:\n",
    "    if row[1] >= 8.0:\n",
    "        print(row[0], row[1])\n"
   ]
  },
  {
   "cell_type": "code",
   "execution_count": 3,
   "metadata": {},
   "outputs": [
    {
     "ename": "NameError",
     "evalue": "name 'students_grades' is not defined",
     "output_type": "error",
     "traceback": [
      "\u001b[1;31m---------------------------------------------------------------------------\u001b[0m",
      "\u001b[1;31mNameError\u001b[0m                                 Traceback (most recent call last)",
      "Cell \u001b[1;32mIn [3], line 2\u001b[0m\n\u001b[0;32m      1\u001b[0m count \u001b[39m=\u001b[39m \u001b[39m0\u001b[39m\n\u001b[1;32m----> 2\u001b[0m \u001b[39mfor\u001b[39;00m row \u001b[39min\u001b[39;00m students_grades:\n\u001b[0;32m      3\u001b[0m     \u001b[39mif\u001b[39;00m row[\u001b[39m1\u001b[39m] \u001b[39m>\u001b[39m\u001b[39m=\u001b[39m \u001b[39m4\u001b[39m:\n\u001b[0;32m      4\u001b[0m         count \u001b[39m+\u001b[39m\u001b[39m=\u001b[39m \u001b[39m1\u001b[39m\n",
      "\u001b[1;31mNameError\u001b[0m: name 'students_grades' is not defined"
     ]
    }
   ],
   "source": [
    "count = 0\n",
    "for row in students_grades:\n",
    "    if row[1] >= 4:\n",
    "        count += 1\n",
    "print(count)"
   ]
  },
  {
   "cell_type": "code",
   "execution_count": 8,
   "metadata": {},
   "outputs": [
    {
     "name": "stdout",
     "output_type": "stream",
     "text": [
      "[[24, 28, 60, 47, 37], [34, 8, 21, 97, 94], [1, 40, 55, 37, 34], [10, 89, 46, 13, 42], [45, 84, 44, 37, 22]]\n"
     ]
    }
   ],
   "source": [
    "import random as rd\n",
    "\n",
    "a = []\n",
    "for i in range(5):\n",
    "    a.append(rd.sample(range(1, 100), 5))\n",
    "print(a)"
   ]
  },
  {
   "cell_type": "code",
   "execution_count": 5,
   "metadata": {},
   "outputs": [
    {
     "name": "stdout",
     "output_type": "stream",
     "text": [
      "[[91, 16, 3, 42, 25], [40, 94, 15, 29, 79]]\n"
     ]
    }
   ],
   "source": [
    "print(a[3:5])"
   ]
  },
  {
   "cell_type": "code",
   "execution_count": 6,
   "metadata": {},
   "outputs": [
    {
     "name": "stdout",
     "output_type": "stream",
     "text": [
      "[[37, 99, 75, 58, 55], [22, 85, 53, 86, 45], [91, 16, 3, 42, 25]]\n"
     ]
    }
   ],
   "source": [
    "print(a[1:4])"
   ]
  },
  {
   "cell_type": "code",
   "execution_count": 13,
   "metadata": {},
   "outputs": [
    {
     "name": "stdout",
     "output_type": "stream",
     "text": [
      "[10, 89, 46, 13, 42]\n",
      "89 10\n"
     ]
    }
   ],
   "source": [
    "n = int(input('Enter n:'))\n",
    "\n",
    "b = a[n]\n",
    "print(b)\n",
    "print(max(b), min(b))"
   ]
  },
  {
   "cell_type": "code",
   "execution_count": 14,
   "metadata": {},
   "outputs": [
    {
     "name": "stdout",
     "output_type": "stream",
     "text": [
      "[1, 40, 55, 37, 34]\n",
      "167\n"
     ]
    }
   ],
   "source": [
    "n = int(input('Enter n:'))\n",
    "\n",
    "b = a[n]\n",
    "print(b)\n",
    "print(sum(b))"
   ]
  },
  {
   "cell_type": "code",
   "execution_count": 16,
   "metadata": {},
   "outputs": [
    {
     "name": "stdout",
     "output_type": "stream",
     "text": [
      "[10, 89, 46, 13, 42]\n",
      "[10, 13, 42, 46, 89]\n"
     ]
    }
   ],
   "source": [
    "n = int(input('Enter n:'))\n",
    "\n",
    "b = a[n]\n",
    "print(b)\n",
    "print(sorted(b))"
   ]
  },
  {
   "cell_type": "code",
   "execution_count": 2,
   "metadata": {},
   "outputs": [
    {
     "name": "stdout",
     "output_type": "stream",
     "text": [
      "[1, 2, 3] <class 'list'>\n",
      "[1 2 3] <class 'numpy.ndarray'>\n"
     ]
    }
   ],
   "source": [
    "import numpy as np\n",
    "\n",
    "a = [1,2,3]\n",
    "b = np.array(a)\n",
    "print(a, type(a))\n",
    "print(b, type(b))"
   ]
  },
  {
   "cell_type": "code",
   "execution_count": 23,
   "metadata": {},
   "outputs": [
    {
     "name": "stdout",
     "output_type": "stream",
     "text": [
      "[ 50  55  60  65  70  75  80  85  90  95 100]\n",
      "[2.         2.21428571 2.42857143 2.64285714 2.85714286 3.07142857\n",
      " 3.28571429 3.5        3.71428571 3.92857143 4.14285714 4.35714286\n",
      " 4.57142857 4.78571429 5.        ]\n",
      "[    3     9    27    81   243   729  2187  6561 19683 59049]\n"
     ]
    }
   ],
   "source": [
    "a = np.arange(50,101,5)\n",
    "print(a)\n",
    "\n",
    "a = np.linspace(2,5,15)\n",
    "print(a)\n",
    "\n",
    "a = np.logspace(1,10,10 ,base=3,dtype=int)\n",
    "print(a)"
   ]
  },
  {
   "cell_type": "code",
   "execution_count": 24,
   "metadata": {},
   "outputs": [
    {
     "name": "stdout",
     "output_type": "stream",
     "text": [
      "[0. 0. 0. 0. 0. 0. 0. 0. 0. 0.]\n",
      "[[1. 1. 1.]\n",
      " [1. 1. 1.]\n",
      " [1. 1. 1.]]\n"
     ]
    }
   ],
   "source": [
    "zeros = np.zeros(10)\n",
    "print(zeros)\n",
    "\n",
    "ones = np.ones((3,3))\n",
    "print(ones)"
   ]
  },
  {
   "cell_type": "code",
   "execution_count": 3,
   "metadata": {},
   "outputs": [
    {
     "name": "stdout",
     "output_type": "stream",
     "text": [
      "[25 13 35 10 42]\n",
      "[ 1977800241   419538377  1528444521  1410065408 -2051251200]\n"
     ]
    }
   ],
   "source": [
    "a = np.random.randint(10,100,5)\n",
    "print(a)\n",
    "print(a ** 10)"
   ]
  },
  {
   "cell_type": "code",
   "execution_count": 4,
   "metadata": {},
   "outputs": [
    {
     "name": "stdout",
     "output_type": "stream",
     "text": [
      "[99 63 44 13 90 10 23 83 19 69]\n",
      "[63 13 23 83]\n",
      "[]\n"
     ]
    }
   ],
   "source": [
    "a = np.random.randint(10,100,10)\n",
    "print(a)\n",
    "\n",
    "print(a[a % 10 == 3])\n",
    "print(a[a // 10 == 5])\n"
   ]
  },
  {
   "cell_type": "code",
   "execution_count": 96,
   "metadata": {},
   "outputs": [
    {
     "name": "stdout",
     "output_type": "stream",
     "text": [
      "[[87 36 14 22 62]\n",
      " [53 89 58 59 93]\n",
      " [45 49 48 48 80]\n",
      " [24 31 74 87 17]\n",
      " [24 66 85 15 42]]\n"
     ]
    }
   ],
   "source": [
    "a = np.random.randint(10,100,(5,5))\n",
    "print(a)"
   ]
  }
 ],
 "metadata": {
  "kernelspec": {
   "display_name": "Python 3.10.8 64-bit",
   "language": "python",
   "name": "python3"
  },
  "language_info": {
   "codemirror_mode": {
    "name": "ipython",
    "version": 3
   },
   "file_extension": ".py",
   "mimetype": "text/x-python",
   "name": "python",
   "nbconvert_exporter": "python",
   "pygments_lexer": "ipython3",
   "version": "3.10.8"
  },
  "orig_nbformat": 4,
  "vscode": {
   "interpreter": {
    "hash": "26de051ba29f2982a8de78e945f0abaf191376122a1563185a90213a26c5da77"
   }
  }
 },
 "nbformat": 4,
 "nbformat_minor": 2
}
