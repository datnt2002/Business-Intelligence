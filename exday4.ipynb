{
 "cells": [
  {
   "cell_type": "code",
   "execution_count": 30,
   "metadata": {},
   "outputs": [],
   "source": [
    "# Give shool years & corresponding number of students\n",
    "school_years = [2010, 2011, 2012, 2013, 2014, 2015, 2016, 2017, 2018, 2019]\n",
    "total_students = [3115, 3420, 3287, 2998, 3514, 3184, 3337, 3409, 3240, 3451]"
   ]
  },
  {
   "cell_type": "code",
   "execution_count": 21,
   "metadata": {},
   "outputs": [
    {
     "name": "stdout",
     "output_type": "stream",
     "text": [
      "16462\n",
      "16493\n"
     ]
    }
   ],
   "source": [
    "# Ex1.1: Calculte the sum of total number of students in odd years\n",
    "print(sum(total_students[1::2]))\n",
    "# Ex1.2: Calculte the sum of total number of students in even years\n",
    "print(sum(total_students[0::2]))"
   ]
  },
  {
   "cell_type": "code",
   "execution_count": 23,
   "metadata": {},
   "outputs": [
    {
     "name": "stdout",
     "output_type": "stream",
     "text": [
      "2014\n",
      "2013\n"
     ]
    }
   ],
   "source": [
    "# Ex2.1: Find the year when there are the most students enrolled\n",
    "max_enrolled = max(total_students)\n",
    "max_index = total_students.index(max_enrolled)\n",
    "print(school_years[max_index])\n",
    "\n",
    "# Ex2.2: Find the year when there are the least students enrolled\n",
    "print(school_years[total_students.index(min(total_students))])\n"
   ]
  },
  {
   "cell_type": "code",
   "execution_count": 57,
   "metadata": {},
   "outputs": [
    {
     "name": "stdout",
     "output_type": "stream",
     "text": [
      "3295.5\n",
      "[2011, 2014, 2016, 2017, 2019]\n"
     ]
    }
   ],
   "source": [
    "# Ex3: Calculate the average number of students and find years \n",
    "# when the number of students is above the average\n",
    "\n",
    "average_number = sum(total_students) / len(total_students)\n",
    "print(average_number)\n",
    "\n",
    "# good_enrolled = [n for n in total_students if n > average_number]\n",
    "# print(good_enrolled)\n",
    "\n",
    "n = len(total_students)\n",
    "good_years = [school_years[i] for i in range(n) if total_students[i] > average_number]\n",
    "print(good_years)"
   ]
  },
  {
   "cell_type": "code",
   "execution_count": 35,
   "metadata": {},
   "outputs": [
    {
     "name": "stdout",
     "output_type": "stream",
     "text": [
      "3514\n"
     ]
    }
   ],
   "source": [
    "# Ex4: User enters a year, find the number of students in that year\n",
    "# If the year is not in the list, print \"No data\"\n",
    "y = int(input('Enter year: '))\n",
    "if y not in school_years:\n",
    "    print('No data')\n",
    "else:\n",
    "    print(total_students[school_years.index(y)])"
   ]
  },
  {
   "cell_type": "code",
   "execution_count": 34,
   "metadata": {},
   "outputs": [
    {
     "name": "stdout",
     "output_type": "stream",
     "text": [
      "[-12, -98, 72, -41, 29, -22, 55, 97, 91, -100, -72, 4, -71, -47, -59]\n",
      "[-12, -98, 72, -22, -100, -72, 4]\n",
      "[-12, -98, -41, -22, -100, -72, -71, -47, -59]\n"
     ]
    }
   ],
   "source": [
    "#List comprehension: create new list use for and original list \n",
    "# [x for i in sequence]\n",
    "import random as rd\n",
    "numbers = rd.sample(range(-100, 100), 15)\n",
    "print(numbers)\n",
    "evens = [n for n in numbers if n % 2 == 0]\n",
    "print(evens)\n",
    "\n",
    "negatives = [n for n in numbers if n < 0]\n",
    "print(negatives)"
   ]
  },
  {
   "cell_type": "code",
   "execution_count": 64,
   "metadata": {},
   "outputs": [
    {
     "name": "stdout",
     "output_type": "stream",
     "text": [
      "[2010, 2013, 2015, 2016, 2018]\n",
      "5\n",
      "[2011, 2012, 2014, 2017]\n",
      "4\n"
     ]
    }
   ],
   "source": [
    "# Ex5: Count how many times the number of students increases from one year to the next\n",
    "# and how many times it decreases. \n",
    "# For example, from 2010 to 2011, the number of students increases\n",
    "# and from 2011 to 2012, the number of students decreases.\n",
    "lengths = len(total_students)\n",
    "increases = [school_years[n] for n in range(lengths-1) if total_students[n] < total_students[n+1]]\n",
    "print(increases)\n",
    "print(len(increases))\n",
    "\n",
    "decreases = [school_years[n] for n in range(lengths-1) if total_students[n] > total_students[n+1]]\n",
    "print(decreases)\n",
    "print(len(decreases))"
   ]
  },
  {
   "cell_type": "code",
   "execution_count": 42,
   "metadata": {},
   "outputs": [
    {
     "name": "stdout",
     "output_type": "stream",
     "text": [
      "16\n",
      "John Yoko Lennon\n",
      "John Yoko Lennon\n"
     ]
    }
   ],
   "source": [
    "the_beatles = ['John Yoko Lennon', 'Paul McCartney', 'George Harrison', 'Ringo Starr']\n",
    "lengths = [len(n) for n in the_beatles]\n",
    "print(max(lengths))\n",
    "print(max(the_beatles, key=len))\n",
    "\n",
    "print(the_beatles[lengths.index(max(lengths))])\n"
   ]
  },
  {
   "cell_type": "code",
   "execution_count": 48,
   "metadata": {},
   "outputs": [
    {
     "name": "stdout",
     "output_type": "stream",
     "text": [
      "[-12, -98, 72, -41, 29, -22, 55, 97, 91, -100, -72, 4, -71, -47, -59]\n",
      "[12, 98, 72, 41, 29, 22, 55, 97, 91, 100, 72, 4, 71, 47, 59]\n",
      "7\n",
      "7\n"
     ]
    }
   ],
   "source": [
    "print(numbers)\n",
    "new_numbers = [n if n > 0 else -n for n in numbers]\n",
    "print(new_numbers)\n",
    "\n",
    "#count even number\n",
    "print(len([n for n in new_numbers if n % 2 == 0]))\n",
    "print(sum([1 if n % 2 == 0 else 0 for n in new_numbers]))"
   ]
  }
 ],
 "metadata": {
  "kernelspec": {
   "display_name": "Python 3.10.8 64-bit",
   "language": "python",
   "name": "python3"
  },
  "language_info": {
   "codemirror_mode": {
    "name": "ipython",
    "version": 3
   },
   "file_extension": ".py",
   "mimetype": "text/x-python",
   "name": "python",
   "nbconvert_exporter": "python",
   "pygments_lexer": "ipython3",
   "version": "3.10.8 (tags/v3.10.8:aaaf517, Oct 11 2022, 16:50:30) [MSC v.1933 64 bit (AMD64)]"
  },
  "orig_nbformat": 4,
  "vscode": {
   "interpreter": {
    "hash": "26de051ba29f2982a8de78e945f0abaf191376122a1563185a90213a26c5da77"
   }
  }
 },
 "nbformat": 4,
 "nbformat_minor": 2
}
