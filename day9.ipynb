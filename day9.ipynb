{
 "cells": [
  {
   "cell_type": "code",
   "execution_count": 1,
   "metadata": {},
   "outputs": [
    {
     "name": "stdout",
     "output_type": "stream",
     "text": [
      "['print(\"helfsfesfsfo\")\\n']\n"
     ]
    }
   ],
   "source": [
    "with open('hello.py', 'r') as f:\n",
    "    content = f.readlines()\n",
    "    print(content)"
   ]
  },
  {
   "cell_type": "code",
   "execution_count": 5,
   "metadata": {},
   "outputs": [
    {
     "name": "stdout",
     "output_type": "stream",
     "text": [
      "The Triboro Bridge and Tunnel Authority\n",
      "The Metropolitan Transit Authority\n",
      "The Port Authority of New York and New Jerseys\n"
     ]
    }
   ],
   "source": [
    "#read agencies, find agencies has Authority in name\n",
    "with open('datasets/agencies.txt', 'r') as f:\n",
    "    content = f.readlines()\n",
    "    for agency in content:\n",
    "        if 'Authority' in agency:\n",
    "            print(agency.strip())\n",
    "    "
   ]
  },
  {
   "cell_type": "code",
   "execution_count": 8,
   "metadata": {},
   "outputs": [
    {
     "name": "stdout",
     "output_type": "stream",
     "text": [
      "file not found\n"
     ]
    }
   ],
   "source": [
    "#read agencies line by line\n",
    "try:\n",
    "    f = open('datasets/ageancies.txt', 'r') \n",
    "    line = f.readline()\n",
    "    while line:\n",
    "        if 'Authority' in line:\n",
    "            print(line.strip())\n",
    "        line = f.readline()\n",
    "    f.close()\n",
    "except FileNotFoundError:\n",
    "    print('file not found')"
   ]
  },
  {
   "cell_type": "code",
   "execution_count": 16,
   "metadata": {},
   "outputs": [
    {
     "name": "stdout",
     "output_type": "stream",
     "text": [
      "6\n",
      "30\n"
     ]
    }
   ],
   "source": [
    "#count number of line and number of word\n",
    "f = open('datasets/agencies.txt', 'r') \n",
    "content = f.readlines()\n",
    "count = 0\n",
    "for line in content:\n",
    "    count += len(line.split())\n",
    "f.close()\n",
    "print(len(content))\n",
    "print(count)"
   ]
  },
  {
   "cell_type": "code",
   "execution_count": null,
   "metadata": {},
   "outputs": [],
   "source": [
    "try:\n",
    "    f = open('datasets/authors.txt', 'r') \n",
    "    line = f.readline()\n",
    "    while line:\n",
    "        if '@' in line:\n",
    "            name, email = line.split('<')\n",
    "            print(f'{name.strip()}: {email.strip()[:-1]}')\n",
    "        line = f.readline()\n",
    "    f.close()\n",
    "except FileNotFoundError:\n",
    "    print('file not found')"
   ]
  },
  {
   "cell_type": "code",
   "execution_count": 35,
   "metadata": {},
   "outputs": [
    {
     "name": "stdout",
     "output_type": "stream",
     "text": [
      "[0.0, 0.5, 0.7] [180.0, 185.0, 192.0] [3.5, 4.5, 5.2]\n"
     ]
    }
   ],
   "source": [
    "with open('datasets/falling.txt', 'r') as f:\n",
    "    times = []\n",
    "    heights = []\n",
    "    uncertainties = []\n",
    "    lines = f.readlines()[5:]#skip 5 lines\n",
    "    for line in lines:\n",
    "        _, t, h, u = line.split()\n",
    "        times.append(float(t))\n",
    "        heights.append(float(h))\n",
    "        uncertainties.append(float(u))\n",
    "    print(times, heights, uncertainties)\n",
    "    "
   ]
  },
  {
   "cell_type": "code",
   "execution_count": 37,
   "metadata": {},
   "outputs": [
    {
     "name": "stdout",
     "output_type": "stream",
     "text": [
      "[0.  0.5 0.7] [180. 185. 192.] [3.5 4.5 5.2]\n"
     ]
    }
   ],
   "source": [
    "import numpy as np\n",
    "times, heights, uncertainties = np.loadtxt('datasets/falling.txt', skiprows=5, usecols=(1,2,3), unpack=True)\n",
    "print(times, heights, uncertainties)"
   ]
  },
  {
   "cell_type": "code",
   "execution_count": 3,
   "metadata": {},
   "outputs": [
    {
     "name": "stdout",
     "output_type": "stream",
     "text": [
      "['Lan', 'Hung']\n"
     ]
    }
   ],
   "source": [
    "data = np.loadtxt('datasets/grades.txt', skiprows=5, dtype=str)\n",
    "print([row[0] for row in data \n",
    "       if (float(row[1]) + float(row[2]) + float(row[3]))/3 >=8.0 ])"
   ]
  },
  {
   "cell_type": "code",
   "execution_count": 56,
   "metadata": {},
   "outputs": [
    {
     "name": "stdout",
     "output_type": "stream",
     "text": [
      "GBH17538: Le Minh Huong,6.5\n",
      "GCH16025: Bui Phuong Nam,0\n",
      "GCH16336: Nguyen The Dat,6.5\n",
      "GCH16388: Pham Minh Thang,6.5\n",
      "GCH16573: Do Duy Tung,6.5\n"
     ]
    }
   ],
   "source": [
    "codes, names, grades = np.loadtxt('datasets/gradebook.csv', delimiter=',', skiprows=1, usecols=(2,3,4), dtype=str, unpack=True)\n",
    "for i in range(len(codes)):\n",
    "    print(f'{codes[i]}: {names[i]},{grades[i]}')"
   ]
  },
  {
   "cell_type": "code",
   "execution_count": 57,
   "metadata": {},
   "outputs": [
    {
     "name": "stdout",
     "output_type": "stream",
     "text": [
      "GBH17538: Le Minh Huong, 6.5\n",
      "GCH16025: Bui Phuong Nam, 0\n",
      "GCH16336: Nguyen The Dat, 6.5\n",
      "GCH16388: Pham Minh Thang, 6.5\n",
      "GCH16573: Do Duy Tung, 6.5\n"
     ]
    }
   ],
   "source": [
    "import csv \n",
    "with open('datasets/gradebook.csv', 'r') as f:\n",
    "    reader = csv.reader(f)\n",
    "    next(reader)\n",
    "    for row in reader:\n",
    "        print(f'{row[2]}: {row[3]}, {row[4]}')"
   ]
  },
  {
   "cell_type": "code",
   "execution_count": 1,
   "metadata": {},
   "outputs": [
    {
     "name": "stdout",
     "output_type": "stream",
     "text": [
      "The Triboro Bridge and Tunnel Authority\n",
      "The Metropolitan Transit Authority\n",
      "The Port Authority of New York and New Jerseys\n"
     ]
    }
   ],
   "source": [
    "fr = open('datasets/agencies.txt', 'r')\n",
    "content = fr.readlines()\n",
    "\n",
    "fw = open('datasets/agency_authority.txt', 'w')\n",
    "for line in content:\n",
    "    if 'Authority' in line:\n",
    "        print(line.strip())\n",
    "        fw.write(line.strip() + '\\n')\n",
    "fr.close()\n",
    "fw.close()"
   ]
  },
  {
   "cell_type": "code",
   "execution_count": 8,
   "metadata": {},
   "outputs": [
    {
     "name": "stdout",
     "output_type": "stream",
     "text": [
      "Lan\n"
     ]
    },
    {
     "ename": "TypeError",
     "evalue": "list.append() takes exactly one argument (4 given)",
     "output_type": "error",
     "traceback": [
      "\u001b[1;31m---------------------------------------------------------------------------\u001b[0m",
      "\u001b[1;31mTypeError\u001b[0m                                 Traceback (most recent call last)",
      "Cell \u001b[1;32mIn [8], line 7\u001b[0m\n\u001b[0;32m      5\u001b[0m     \u001b[39mif\u001b[39;00m(\u001b[39mfloat\u001b[39m(maths[i]) \u001b[39m+\u001b[39m \u001b[39mfloat\u001b[39m(liters[i]) \u001b[39m+\u001b[39m \u001b[39mfloat\u001b[39m(english[i])) \u001b[39m/\u001b[39m \u001b[39m3\u001b[39m \u001b[39m>\u001b[39m\u001b[39m=\u001b[39m \u001b[39m8.0\u001b[39m:\n\u001b[0;32m      6\u001b[0m         \u001b[39mprint\u001b[39m(names[i])\n\u001b[1;32m----> 7\u001b[0m         merits\u001b[39m.\u001b[39;49mappend(names[i], maths[i], liters[i], english[i])\n\u001b[0;32m      8\u001b[0m np\u001b[39m.\u001b[39msavetxt(\u001b[39m'\u001b[39m\u001b[39mdatasets/merits.csv\u001b[39m\u001b[39m'\u001b[39m,merits ,fmt\u001b[39m=\u001b[39m\u001b[39m'\u001b[39m\u001b[39m%s\u001b[39;00m\u001b[39m'\u001b[39m, delimeter\u001b[39m=\u001b[39m\u001b[39m'\u001b[39m\u001b[39m,\u001b[39m\u001b[39m'\u001b[39m)\n",
      "\u001b[1;31mTypeError\u001b[0m: list.append() takes exactly one argument (4 given)"
     ]
    }
   ],
   "source": [
    "import numpy as np\n",
    "names, maths, liters, english = np.loadtxt('datasets/grades.txt', skiprows=5, dtype=str, unpack=True)\n",
    "merits = [['Name', 'Math', 'Literature', 'English']]\n",
    "for i in range(len(names)):\n",
    "    if(float(maths[i]) + float(liters[i]) + float(english[i])) / 3 >= 8.0:\n",
    "        print(names[i])\n",
    "        merits.append(names[i], maths[i], liters[i], english[i])\n",
    "np.savetxt('datasets/merits.csv',merits ,fmt='%s', delimeter=',')"
   ]
  },
  {
   "cell_type": "code",
   "execution_count": 42,
   "metadata": {},
   "outputs": [
    {
     "name": "stdout",
     "output_type": "stream",
     "text": [
      "GBH17538: Le Minh Huong, 6.5\n",
      "GCH16336: Nguyen The Dat, 6.5\n",
      "GCH16388: Pham Minh Thang, 6.5\n",
      "GCH16573: Do Duy Tung, 6.5\n"
     ]
    }
   ],
   "source": [
    "import csv \n",
    "fw = open('datasets/gradebook_pass.csv', 'w')\n",
    "writer = csv.writer(fw)\n",
    "writer.writerow(['Login', 'Email', 'Code', 'Name', 'Grade'])\n",
    "with open('datasets/gradebook.csv', 'r') as f:\n",
    "    reader = csv.reader(f)\n",
    "    next(reader)\n",
    "    for row in reader:\n",
    "        if float(row[4]) >= 6.5:\n",
    "            print(f'{row[2]}: {row[3]}, {row[4]}')\n",
    "            writer.writerow(row)\n",
    "            \n",
    "fw.close() "
   ]
  },
  {
   "cell_type": "code",
   "execution_count": null,
   "metadata": {},
   "outputs": [],
   "source": [
    "import csv\n",
    "fr = open('datasets/pizza_data.csv', 'r')\n",
    "reader = csv.reader(fr)\n",
    "header = next(reader)\n",
    "del header[0]\n",
    "del header[7]\n",
    "\n",
    "fw = open('datasets/pizza_clean.csv', 'w')\n",
    "writer = csv.writer(fw)\n",
    "writer.writerow(header)\n",
    "\n",
    "clean_data = []\n",
    "for row in reader:\n",
    "    if row[9] != '' and row[10] !='' and row[-2] != '' and row[-3] !='': \n",
    "        row[2] = row[2].split(',')[0].split('/')[0].split('&')[0].split(' and ')[0]\n",
    "        del row[0]\n",
    "        del row[7]\n",
    "        clean_data.append(row)\n",
    "        writer.writerow(row) \n",
    "fr.close()\n",
    "fw.close()\n"
   ]
  }
 ],
 "metadata": {
  "kernelspec": {
   "display_name": "Python 3",
   "language": "python",
   "name": "python3"
  },
  "language_info": {
   "codemirror_mode": {
    "name": "ipython",
    "version": 3
   },
   "file_extension": ".py",
   "mimetype": "text/x-python",
   "name": "python",
   "nbconvert_exporter": "python",
   "pygments_lexer": "ipython3",
   "version": "3.10.8 (tags/v3.10.8:aaaf517, Oct 11 2022, 16:50:30) [MSC v.1933 64 bit (AMD64)]"
  },
  "orig_nbformat": 4,
  "vscode": {
   "interpreter": {
    "hash": "26de051ba29f2982a8de78e945f0abaf191376122a1563185a90213a26c5da77"
   }
  }
 },
 "nbformat": 4,
 "nbformat_minor": 2
}
