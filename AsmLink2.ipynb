{
 "cells": [
  {
   "cell_type": "code",
   "execution_count": 1,
   "metadata": {},
   "outputs": [],
   "source": [
    "import csv\n",
    "\n",
    "fr = open('DatasetsAsm/udemy_output_All_Finance__Accounting_p1_p626.csv', 'r', encoding='utf-8') \n",
    "reader = csv.reader(fr)\n",
    "header = next(reader)\n",
    "\n",
    "fw = open('DatasetsAsm/clean_link2.csv', 'w', encoding='utf-8')\n",
    "writer = csv.writer(fw)\n",
    "del header[0]\n",
    "del header[1]\n",
    "del header[13:15]\n",
    "del header[14:]\n",
    "writer.writerow(header)\n",
    "\n",
    "for row in reader:\n",
    "    del row[0]\n",
    "    del row[1]\n",
    "    row[1] = 'Free' if row[1] == 'True' else 'Paid'\n",
    "    #round rating\n",
    "    row[5] = round(float(row[5]), 1)\n",
    "    if (row[5] - int(row[5])) < 0.5:\n",
    "        row[5] = int(row[5])\n",
    "    elif (row[5] - int(row[5])) > 0.5:\n",
    "        row[5] =  int(row[5]) + 1\n",
    "    else:\n",
    "        row[5] = row[5]\n",
    "    #replace true false\n",
    "    row[7] = 'Is Wishlist' if row[7] == 'True' else 'Not Wishlist'\n",
    "    del row[13:15]\n",
    "    del row[14:]\n",
    "    #convert INR to USD\n",
    "    if row[-1] != '':\n",
    "        row[-1] = float(row[-1]) * 0.012\n",
    "    if row[-2] != '':\n",
    "        row[-2] = float(row[-2]) * 0.012\n",
    "    writer.writerow(row)\n",
    "\n",
    "fr.close()\n",
    "fw.close()"
   ]
  }
 ],
 "metadata": {
  "kernelspec": {
   "display_name": "Python 3",
   "language": "python",
   "name": "python3"
  },
  "language_info": {
   "codemirror_mode": {
    "name": "ipython",
    "version": 3
   },
   "file_extension": ".py",
   "mimetype": "text/x-python",
   "name": "python",
   "nbconvert_exporter": "python",
   "pygments_lexer": "ipython3",
   "version": "3.10.8"
  },
  "orig_nbformat": 4,
  "vscode": {
   "interpreter": {
    "hash": "26de051ba29f2982a8de78e945f0abaf191376122a1563185a90213a26c5da77"
   }
  }
 },
 "nbformat": 4,
 "nbformat_minor": 2
}
