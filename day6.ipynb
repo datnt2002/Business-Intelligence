{
 "cells": [
  {
   "cell_type": "code",
   "execution_count": 2,
   "metadata": {},
   "outputs": [
    {
     "name": "stdout",
     "output_type": "stream",
     "text": [
      "7\n",
      "b\n",
      "5.0\n"
     ]
    }
   ],
   "source": [
    "def my_max(a, b):\n",
    "    if a > b:\n",
    "        return a\n",
    "    return b\n",
    "print(my_max(5, 7)) # work with integers\n",
    "print(my_max('a', 'b')) # work with strings\n",
    "print(my_max(5.0, 4.2)) # work with floats"
   ]
  },
  {
   "cell_type": "code",
   "execution_count": 3,
   "metadata": {},
   "outputs": [
    {
     "name": "stdout",
     "output_type": "stream",
     "text": [
      "5\n"
     ]
    }
   ],
   "source": [
    "print(my_max(5.0, 5)) "
   ]
  },
  {
   "cell_type": "code",
   "execution_count": 4,
   "metadata": {},
   "outputs": [],
   "source": [
    "# pass by value vs pass by reference\n",
    "def double(x):\n",
    "    x = x * 2\n",
    "    print(x)"
   ]
  },
  {
   "cell_type": "code",
   "execution_count": 5,
   "metadata": {},
   "outputs": [
    {
     "name": "stdout",
     "output_type": "stream",
     "text": [
      "12\n",
      "6\n"
     ]
    }
   ],
   "source": [
    "x = 6\n",
    "double(x) # => 12\n",
    "print(x)  # => 6"
   ]
  },
  {
   "cell_type": "code",
   "execution_count": 6,
   "metadata": {},
   "outputs": [
    {
     "name": "stdout",
     "output_type": "stream",
     "text": [
      "[2 4 6]\n",
      "[1 2 3]\n"
     ]
    }
   ],
   "source": [
    "import numpy as np\n",
    "x = np.array([1, 2, 3])\n",
    "double(x) # => [2 4 6]\n",
    "print(x)  # => [1 2 3]"
   ]
  },
  {
   "cell_type": "code",
   "execution_count": 7,
   "metadata": {},
   "outputs": [],
   "source": [
    "def double_list(x):\n",
    "    for i in range(len(x)):\n",
    "        x[i] = x[i] * 2\n",
    "    print(x)"
   ]
  },
  {
   "cell_type": "code",
   "execution_count": 8,
   "metadata": {},
   "outputs": [
    {
     "name": "stdout",
     "output_type": "stream",
     "text": [
      "[2 4 6]\n",
      "[2 4 6]\n",
      "4*5*6\n"
     ]
    }
   ],
   "source": [
    "x = np.array([1, 2, 3])\n",
    "double_list(x) # => [2 4 6]\n",
    "print(x)  # => [2 4 6]"
   ]
  },
  {
   "cell_type": "code",
   "execution_count": 9,
   "metadata": {},
   "outputs": [],
   "source": [
    "def my_sort(a, asc=True):\n",
    "    n = len(a)\n",
    "    if asc:\n",
    "        for i in range(n - 1):\n",
    "            for j in range(i + 1, n):\n",
    "                if a[j] < a[i]:\n",
    "                    a[i], a[j] = a[j], a[i]\n",
    "    else:\n",
    "        for i in range(n - 1):\n",
    "            for j in range(i + 1, n):\n",
    "                if a[j] > a[i]:\n",
    "                    a[i], a[j] = a[j], a[i]"
   ]
  },
  {
   "cell_type": "code",
   "execution_count": 10,
   "metadata": {},
   "outputs": [
    {
     "name": "stdout",
     "output_type": "stream",
     "text": [
      "[52, 40, 78, 17, 93, 28, 23, 63, 51, 48]\n",
      "[17, 23, 28, 40, 48, 51, 52, 63, 78, 93]\n",
      "[93, 78, 63, 52, 51, 48, 40, 28, 23, 17]\n"
     ]
    }
   ],
   "source": [
    "numbers = [np.random.randint(0, 100) for i in range(10)]\n",
    "print(numbers)\n",
    "my_sort(numbers)\n",
    "print(numbers)\n",
    "my_sort(numbers, asc=False)\n",
    "print(numbers)"
   ]
  },
  {
   "cell_type": "code",
   "execution_count": 11,
   "metadata": {},
   "outputs": [],
   "source": [
    "def demo_keyword(x, n=10, s='hello'):\n",
    "    print('x =', x)\n",
    "    print('n =', n)\n",
    "    print('s =', s)"
   ]
  },
  {
   "cell_type": "code",
   "execution_count": 12,
   "metadata": {},
   "outputs": [],
   "source": [
    "def my_sum(*items):\n",
    "    print(type(items))\n",
    "    s = 0\n",
    "    for i in items:\n",
    "        s += i\n",
    "    return s"
   ]
  },
  {
   "cell_type": "code",
   "execution_count": 13,
   "metadata": {},
   "outputs": [
    {
     "name": "stdout",
     "output_type": "stream",
     "text": [
      "7 50\n",
      "50\n"
     ]
    }
   ],
   "source": [
    "def min_max(a, b):\n",
    "    if a > b:\n",
    "        return b, a\n",
    "    return a, b\n",
    "mi, ma = min_max(50, 7)\n",
    "print(mi, ma)\n",
    "\n",
    "_, ma = min_max(50, 7)\n",
    "print(ma)"
   ]
  },
  {
   "cell_type": "code",
   "execution_count": 30,
   "metadata": {},
   "outputs": [],
   "source": [
    "#search for x in items, return true if found, false otherwise. if abs = true, search |x|\n",
    "def search(items, x, abs=False):\n",
    "    if abs:\n",
    "        if -x in items or x in items:\n",
    "            return True \n",
    "        return False\n",
    "    else:\n",
    "        if x in items:\n",
    "            return True\n",
    "        return False"
   ]
  },
  {
   "cell_type": "code",
   "execution_count": 35,
   "metadata": {},
   "outputs": [
    {
     "data": {
      "text/plain": [
       "True"
      ]
     },
     "execution_count": 35,
     "metadata": {},
     "output_type": "execute_result"
    }
   ],
   "source": [
    "a = [-1,-2,-4,3]\n",
    "search(a,-3, abs=True)"
   ]
  },
  {
   "cell_type": "code",
   "execution_count": 36,
   "metadata": {},
   "outputs": [
    {
     "data": {
      "text/plain": [
       "False"
      ]
     },
     "execution_count": 36,
     "metadata": {},
     "output_type": "execute_result"
    }
   ],
   "source": [
    "search(a,-3)"
   ]
  },
  {
   "cell_type": "code",
   "execution_count": 46,
   "metadata": {},
   "outputs": [],
   "source": [
    "def my_max(items, key=None):\n",
    "    if key is None:\n",
    "        m = items[0]\n",
    "        for i in items:\n",
    "            if i > m:\n",
    "                m=i\n",
    "        return m\n",
    "    else:\n",
    "        m = items[0]\n",
    "        for i in items:\n",
    "            if key(i) > key(m):\n",
    "                m = i\n",
    "        return m"
   ]
  },
  {
   "cell_type": "code",
   "execution_count": 37,
   "metadata": {},
   "outputs": [],
   "source": [
    "def last_name(name):\n",
    "    return name.split()[-1]"
   ]
  },
  {
   "cell_type": "code",
   "execution_count": 49,
   "metadata": {},
   "outputs": [
    {
     "name": "stdout",
     "output_type": "stream",
     "text": [
      "Marraadar\n"
     ]
    }
   ],
   "source": [
    "names = ['John', 'Marraadar', 'dewradwed']\n",
    "\n",
    "def max_vowels(name):\n",
    "    max_vowel = 0\n",
    "    for i in name:\n",
    "        if i in 'ueoai':\n",
    "            max_vowel += 1\n",
    "    return max_vowel\n",
    "\n",
    "\n",
    "m = my_max(names, key=max_vowels)\n",
    "print(m)\n"
   ]
  },
  {
   "cell_type": "code",
   "execution_count": 52,
   "metadata": {},
   "outputs": [
    {
     "name": "stdout",
     "output_type": "stream",
     "text": [
      "[93, 78, 63, 52, 51, 48, 40, 28, 23, 17]\n",
      "78\n"
     ]
    }
   ],
   "source": [
    "print(numbers)\n",
    "\n",
    "def max_last_digits(number):\n",
    "    return number % 10\n",
    "\n",
    "print(my_max(numbers, key=max_last_digits))"
   ]
  },
  {
   "cell_type": "code",
   "execution_count": 60,
   "metadata": {},
   "outputs": [
    {
     "name": "stdout",
     "output_type": "stream",
     "text": [
      "[54, 55, 95, -8, -37, 51, 48, -95, -22, 6]\n",
      "95\n",
      "[-16, -89, 41, -32, 85, 80, -54, 93, 93, 30]\n",
      "93\n"
     ]
    }
   ],
   "source": [
    "#Find a number that has max sum of digits\n",
    "print(numbers)\n",
    "\n",
    "def sum_digits(x):\n",
    "    return x % 10 + x // 10\n",
    "\n",
    "print(my_max(numbers, key=sum_digits))\n",
    "\n",
    "\n",
    "#Find number that has max abs value\n",
    "numbers = [np.random.randint(-100, 100) for i in range(10)]\n",
    "print(numbers)\n",
    "\n",
    "\n",
    "print(my_max(numbers, key=abs))"
   ]
  }
 ],
 "metadata": {
  "kernelspec": {
   "display_name": "Python 3.10.8 64-bit",
   "language": "python",
   "name": "python3"
  },
  "language_info": {
   "codemirror_mode": {
    "name": "ipython",
    "version": 3
   },
   "file_extension": ".py",
   "mimetype": "text/x-python",
   "name": "python",
   "nbconvert_exporter": "python",
   "pygments_lexer": "ipython3",
   "version": "3.10.8"
  },
  "orig_nbformat": 4,
  "vscode": {
   "interpreter": {
    "hash": "26de051ba29f2982a8de78e945f0abaf191376122a1563185a90213a26c5da77"
   }
  }
 },
 "nbformat": 4,
 "nbformat_minor": 2
}
