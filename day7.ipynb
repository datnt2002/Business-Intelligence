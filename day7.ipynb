{
 "cells": [
  {
   "cell_type": "code",
   "execution_count": 1,
   "metadata": {},
   "outputs": [],
   "source": [
    "def my_sort(a, compare=lambda x, y: x < y):\n",
    "    n = len(a)\n",
    "    for i in range(n-1):\n",
    "        for j in range(i+1, n):\n",
    "            if compare(a[j], a[i]):\n",
    "                a[i], a[j] = a[j], a[i]"
   ]
  },
  {
   "cell_type": "code",
   "execution_count": 2,
   "metadata": {},
   "outputs": [
    {
     "name": "stdout",
     "output_type": "stream",
     "text": [
      "[50, 37, 38, 71, 51, 70, 68, 38, 34, 87]\n",
      "[34, 37, 38, 38, 50, 51, 68, 70, 71, 87]\n",
      "[87, 71, 70, 68, 51, 50, 38, 38, 37, 34]\n"
     ]
    }
   ],
   "source": [
    "import random as rd\n",
    "numbers = [rd.randint(10,99) for _ in range(10)]\n",
    "print(numbers)\n",
    "my_sort(numbers)\n",
    "print(numbers)\n",
    "my_sort(numbers, compare=lambda x, y: x > y)\n",
    "print(numbers)"
   ]
  },
  {
   "cell_type": "code",
   "execution_count": 3,
   "metadata": {},
   "outputs": [
    {
     "name": "stdout",
     "output_type": "stream",
     "text": [
      "[70, 50, 51, 71, 34, 37, 87, 38, 68, 38]\n"
     ]
    }
   ],
   "source": [
    "#sort asc by last digit\n",
    "my_sort(numbers, compare=lambda x, y: x%10 < y%10)\n",
    "print(numbers)"
   ]
  },
  {
   "cell_type": "code",
   "execution_count": 19,
   "metadata": {},
   "outputs": [
    {
     "name": "stdout",
     "output_type": "stream",
     "text": [
      "['George Harrison', 'John Lennon', 'Paul McCartney', 'Ringo Starr', 'z']\n",
      "['z', 'Ringo Starr', 'Paul McCartney', 'John Lennon', 'George Harrison']\n",
      "['z', 'Ringo Starr', 'John Lennon', 'Paul McCartney', 'George Harrison']\n",
      "['George Harrison', 'Paul McCartney', 'Ringo Starr', 'John Lennon', 'z']\n",
      "['z', 'Ringo Starr', 'Paul McCartney', 'John Lennon', 'George Harrison']\n",
      "['George Harrison', 'John Lennon', 'Paul McCartney', 'Ringo Starr', 'z']\n"
     ]
    }
   ],
   "source": [
    "names = ['John Lennon','z', 'Paul McCartney', 'George Harrison', 'Ringo Starr']\n",
    "#sort names asc by alphabet\n",
    "my_sort(names)\n",
    "print(names)\n",
    "#descen\n",
    "my_sort(names, compare=lambda x, y: x > y)\n",
    "print(names)\n",
    "#asc length\n",
    "my_sort(names, compare=lambda x, y: len(x) < len(y))\n",
    "print(names)\n",
    "#descen\n",
    "my_sort(names, compare=lambda x, y: len(x) > len(y))\n",
    "print(names)\n",
    "#asc last name\n",
    "my_sort(names, compare=lambda x, y: x.split()[-1] > y.split()[-1])\n",
    "print(names)\n",
    "\n",
    "my_sort(names, compare=lambda x, y: x.split()[-1] < y.split()[-1])\n",
    "print(names)"
   ]
  },
  {
   "cell_type": "code",
   "execution_count": 20,
   "metadata": {},
   "outputs": [],
   "source": [
    "devices = {'iphone14': 999, 'samsung123123': 1000, 'iphone11': 500, 'sfaderagr': 124}\n"
   ]
  },
  {
   "cell_type": "code",
   "execution_count": null,
   "metadata": {},
   "outputs": [],
   "source": []
  },
  {
   "cell_type": "code",
   "execution_count": 32,
   "metadata": {},
   "outputs": [
    {
     "name": "stdout",
     "output_type": "stream",
     "text": [
      "dict_items([('iphone14', 999), ('samsung123123', 1000), ('iphone11', 500), ('sfaderagr', 124)])\n",
      "[]\n",
      "iphone14: $999\n",
      "iphone11: $500\n",
      "749.5\n"
     ]
    }
   ],
   "source": [
    "print(devices.items())\n",
    "#find iphone devices\n",
    "iphones = filter(lambda x : 'iphone' in x[0], devices.items())\n",
    "print(list(iphone))\n",
    "\n",
    "count = 0\n",
    "sum_price = 0\n",
    "for phone in iphones:\n",
    "    print(f'{phone[0]}: ${phone[1]}')\n",
    "    count += 1\n",
    "    sum_price += phone[1]\n",
    "print(sum_price/count)"
   ]
  },
  {
   "cell_type": "code",
   "execution_count": null,
   "metadata": {},
   "outputs": [],
   "source": [
    "prices = map(lambda x: x[1], devices.items())"
   ]
  },
  {
   "cell_type": "code",
   "execution_count": 35,
   "metadata": {},
   "outputs": [
    {
     "name": "stdout",
     "output_type": "stream",
     "text": [
      "['Lennon', 'z', 'McCartney', 'Harrison', 'Starr']\n",
      "['Lennon', 'z', 'McCartney', 'Harrison', 'Starr']\n"
     ]
    }
   ],
   "source": [
    "#map funtion syntax: map(funtion, iterable)\n",
    "names = ['John Lennon','z', 'Paul McCartney', 'George Harrison', 'Ringo Starr']\n",
    "#get last name using list comprehension\n",
    "last_name = [name.split()[-1] for name in names]\n",
    "print(last_name)\n",
    "#get last name using map function\n",
    "last_map = list(map(lambda x: x.split()[-1], names))\n",
    "print(last_map)"
   ]
  }
 ],
 "metadata": {
  "kernelspec": {
   "display_name": "Python 3.10.8 64-bit",
   "language": "python",
   "name": "python3"
  },
  "language_info": {
   "codemirror_mode": {
    "name": "ipython",
    "version": 3
   },
   "file_extension": ".py",
   "mimetype": "text/x-python",
   "name": "python",
   "nbconvert_exporter": "python",
   "pygments_lexer": "ipython3",
   "version": "3.10.8"
  },
  "orig_nbformat": 4,
  "vscode": {
   "interpreter": {
    "hash": "26de051ba29f2982a8de78e945f0abaf191376122a1563185a90213a26c5da77"
   }
  }
 },
 "nbformat": 4,
 "nbformat_minor": 2
}
