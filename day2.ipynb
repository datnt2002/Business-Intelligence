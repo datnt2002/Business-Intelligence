{
 "cells": [
  {
   "cell_type": "code",
   "execution_count": null,
   "metadata": {},
   "outputs": [
    {
     "name": "stdout",
     "output_type": "stream",
     "text": [
      "[1, 3, 5, 6, 1, 2, 3, 4, 5]\n"
     ]
    }
   ],
   "source": [
    "a = [1,3,5,6]\n",
    "b = [1,2,3,4,5]\n",
    "c = a + b\n",
    "\n",
    "print(c)"
   ]
  },
  {
   "cell_type": "code",
   "execution_count": null,
   "metadata": {},
   "outputs": [
    {
     "name": "stdout",
     "output_type": "stream",
     "text": [
      "[1, 3, 5, 6, 1, 2, 3, 4, 5, 1, 3, 5, 6, 1, 2, 3, 4, 5, 1, 3, 5, 6, 1, 2, 3, 4, 5, 1, 3, 5, 6, 1, 2, 3, 4, 5, 1, 3, 5, 6, 1, 2, 3, 4, 5]\n"
     ]
    }
   ],
   "source": [
    "c = c * 5\n",
    "print(c)"
   ]
  },
  {
   "cell_type": "code",
   "execution_count": null,
   "metadata": {},
   "outputs": [
    {
     "name": "stdout",
     "output_type": "stream",
     "text": [
      "John Mary Bob "
     ]
    }
   ],
   "source": [
    "names = ['John', 'Mary', 'Bob']\n",
    "for i in names:\n",
    "    print(i , end=' ')"
   ]
  },
  {
   "cell_type": "code",
   "execution_count": null,
   "metadata": {},
   "outputs": [
    {
     "name": "stdout",
     "output_type": "stream",
     "text": [
      "Mary 8.0\n",
      "Alice 8.0\n",
      "Mike 9.0\n",
      "Count 3\n"
     ]
    }
   ],
   "source": [
    "students = ['John', 'Mary', 'Bob', 'Alice', 'Mike']\n",
    "grades = [3.5, 8.0, 5.5,8.0,9.0]\n",
    "count = 0\n",
    "for i in range(len(students)):\n",
    "    if grades[i] >= 8.0:\n",
    "        count += 1\n",
    "        print(students[i], grades[i])\n",
    "print('Count', count)"
   ]
  },
  {
   "cell_type": "code",
   "execution_count": 51,
   "metadata": {},
   "outputs": [
    {
     "name": "stdout",
     "output_type": "stream",
     "text": [
      "Stapler 270.0\n"
     ]
    }
   ],
   "source": [
    "products = ['Pen', 'Pencil', 'Notebook', 'Eraser', 'Stapler']\n",
    "prices = [1.5, 1.2, 2.0, 0.5, 3.0]\n",
    "solds = [120, 260, 70, 300, 90]\n",
    "total = 0\n",
    "sale = 0\n",
    "\n",
    "# for i in range(len(products)): \n",
    "#     print(products[i], prices[i] * solds[i])\n",
    "#     sale += prices[i] * solds[i]\n",
    "    \n",
    "# print('Total: ', sale)\n",
    "\n",
    "\n",
    "max_sales = 0\n",
    "max_product = ''\n",
    "for n in range(len(products)):\n",
    "    sales = prices[i] * solds[i]\n",
    "    if sales > max_sales:\n",
    "        max_sales = sales\n",
    "        max_product = products[i]\n",
    "print(max_product, max_sales)\n"
   ]
  },
  {
   "cell_type": "code",
   "execution_count": 58,
   "metadata": {},
   "outputs": [
    {
     "name": "stdout",
     "output_type": "stream",
     "text": [
      "[39, 26, 17, 56, 12, 99, 16, 92, 73, 53]\n",
      "None\n"
     ]
    }
   ],
   "source": [
    "import random as rd \n",
    "\n",
    "numbers = rd.sample(range(1,100), 10)\n",
    "print(numbers)\n",
    "\n",
    "numbers[3:6]\n",
    "numbers[-3:]\n",
    "numbers[3:-4]\n",
    "\n",
    "print(numbers.remove(56))"
   ]
  },
  {
   "cell_type": "code",
   "execution_count": 72,
   "metadata": {},
   "outputs": [
    {
     "name": "stdout",
     "output_type": "stream",
     "text": [
      "[1, 2, 3, 4, 5, 6, 7, 8, 9, 10, 11, 12, 13, 14, 15, 16, 17, 18, 19, 20]\n",
      "[1, 2, 3, 4, 5, 6, 7, 8, 9, 10]\n",
      "[11, 12, 13, 14, 15, 16, 17, 18, 19, 20]\n",
      "[5, 6, 7, 8, 9, 10, 11, 12, 13, 14, 15, 16]\n",
      "[1, 2, 3, 4, 5, 16, 17, 18, 19, 20]\n"
     ]
    }
   ],
   "source": [
    "a = [1,2,3,4,5,6,7,8,9,10,11,12,13,14,15,16,17,18,19,20]\n",
    "print(a)\n",
    "b = a[:int(len(a)/2)]\n",
    "c = a[int(len(a)/2):]\n",
    "print(b)\n",
    "print(c)\n",
    "\n",
    "\n",
    "n = int(input('ENter n:'))\n",
    "d = a[n:-n]\n",
    "print(d)\n",
    "\n",
    "m = int(input('ENter m:'))\n",
    "new1 = a[:m]\n",
    "new2 = a[-m:]\n",
    "new = new1 + new2\n",
    "print(new)\n",
    "\n",
    "# k = int(input('ENter k:'))\n",
    "# print(a[k])"
   ]
  }
 ],
 "metadata": {
  "kernelspec": {
   "display_name": "Python 3.10.8 64-bit",
   "language": "python",
   "name": "python3"
  },
  "language_info": {
   "codemirror_mode": {
    "name": "ipython",
    "version": 3
   },
   "file_extension": ".py",
   "mimetype": "text/x-python",
   "name": "python",
   "nbconvert_exporter": "python",
   "pygments_lexer": "ipython3",
   "version": "3.10.8"
  },
  "orig_nbformat": 4,
  "vscode": {
   "interpreter": {
    "hash": "26de051ba29f2982a8de78e945f0abaf191376122a1563185a90213a26c5da77"
   }
  }
 },
 "nbformat": 4,
 "nbformat_minor": 2
}
